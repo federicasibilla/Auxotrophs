{
 "cells": [
  {
   "cell_type": "markdown",
   "id": "51fb6696",
   "metadata": {},
   "source": [
    "# Notebook to create a dataframe of simple examples to perform sanity checks"
   ]
  },
  {
   "cell_type": "markdown",
   "id": "fc157a65",
   "metadata": {},
   "source": [
    "## First example is 2 species exchanging one AA each"
   ]
  },
  {
   "cell_type": "code",
   "execution_count": 11,
   "id": "85140453",
   "metadata": {},
   "outputs": [],
   "source": [
    "import os\n",
    "import sys\n",
    "import pickle\n",
    "\n",
    "import numpy as np\n",
    "import pandas as pd\n",
    "\n",
    "import matplotlib.pyplot as plt"
   ]
  },
  {
   "cell_type": "code",
   "execution_count": 5,
   "id": "19a09a01",
   "metadata": {},
   "outputs": [],
   "source": [
    "# Start from current working directory (e.g., simple_examples_sanity_checks/)\n",
    "base_path = os.path.abspath(os.path.join(os.getcwd(), '..'))  # Go up one level\n",
    "\n",
    "file_path = os.path.join(base_path, 'generating_networks', 'generated_networks_df.pkl')\n",
    "\n",
    "# Now load the pickle\n",
    "networks_df = pd.read_pickle(file_path)"
   ]
  },
  {
   "cell_type": "code",
   "execution_count": 6,
   "id": "2e349142",
   "metadata": {},
   "outputs": [
    {
     "data": {
      "text/html": [
       "<div>\n",
       "<style scoped>\n",
       "    .dataframe tbody tr th:only-of-type {\n",
       "        vertical-align: middle;\n",
       "    }\n",
       "\n",
       "    .dataframe tbody tr th {\n",
       "        vertical-align: top;\n",
       "    }\n",
       "\n",
       "    .dataframe thead th {\n",
       "        text-align: right;\n",
       "    }\n",
       "</style>\n",
       "<table border=\"1\" class=\"dataframe\">\n",
       "  <thead>\n",
       "    <tr style=\"text-align: right;\">\n",
       "      <th></th>\n",
       "      <th>network_id</th>\n",
       "      <th>attempts</th>\n",
       "      <th>uptake_fac</th>\n",
       "      <th>uptake_oblig</th>\n",
       "      <th>spec_met</th>\n",
       "      <th>met_fac</th>\n",
       "      <th>met_oblig</th>\n",
       "    </tr>\n",
       "  </thead>\n",
       "  <tbody>\n",
       "    <tr>\n",
       "      <th>0</th>\n",
       "      <td>16_20_1_1_0.1_1.0_0.1_10_0</td>\n",
       "      <td>1</td>\n",
       "      <td>[[1.1764052345967664, 0.0, 0.0, 0.0, 0.0, 0.0,...</td>\n",
       "      <td>[[1.1764052345967664, 0.0, 0.0, 0.0, 0.0, 0.0,...</td>\n",
       "      <td>[[0.0, 0.0, 0.0, 0.0, 0.0, 0.0, 0.0, 1.0, 0.0,...</td>\n",
       "      <td>[[0.0, 0.0, 0.0, 0.0, 0.0, 0.0, 0.0, 0.0, 0.0,...</td>\n",
       "      <td>[[0.0, 0.0, 0.0, 0.0, 0.0, 0.0, 0.0, 0.0, 0.0,...</td>\n",
       "    </tr>\n",
       "    <tr>\n",
       "      <th>1</th>\n",
       "      <td>16_20_1_1_0.1_1.0_0.1_10_1</td>\n",
       "      <td>1</td>\n",
       "      <td>[[1.1624345363663242, 0.0, 0.0, 0.0, 0.0, 1.11...</td>\n",
       "      <td>[[1.1624345363663242, 0.0, 0.0, 0.0, 0.0, 1.0,...</td>\n",
       "      <td>[[0.0, 0.0, 0.0, 0.0, 0.0, 0.0, 0.0, 0.0, 0.0,...</td>\n",
       "      <td>[[0.0, 0.0, 0.0, 0.0, 0.0, 0.0, 0.0, 0.0, 0.0,...</td>\n",
       "      <td>[[0.0, 0.0, 0.0, 0.0, 0.0, 0.0, 0.0, 0.0, 0.0,...</td>\n",
       "    </tr>\n",
       "    <tr>\n",
       "      <th>2</th>\n",
       "      <td>16_20_1_1_0.1_1.0_0.1_10_2</td>\n",
       "      <td>1</td>\n",
       "      <td>[[0.9583242152594529, 0.0, 0.0, 0.0, 0.0, 0.0,...</td>\n",
       "      <td>[[0.9583242152594529, 0.0, 0.0, 0.0, 0.0, 0.0,...</td>\n",
       "      <td>[[0.0, 0.0, 0.0, 0.0, 0.0, 0.0, 0.0, 0.0, 0.0,...</td>\n",
       "      <td>[[0.0, 0.0, 0.0, 0.0, 0.0, 0.0, 0.0, 0.0, 0.0,...</td>\n",
       "      <td>[[0.0, 0.0, 0.0, 0.0, 0.0, 0.0, 0.0, 0.0, 0.0,...</td>\n",
       "    </tr>\n",
       "    <tr>\n",
       "      <th>3</th>\n",
       "      <td>16_20_1_1_0.1_1.0_0.1_10_3</td>\n",
       "      <td>1</td>\n",
       "      <td>[[1.1788628473430318, 0.0, 0.0, 0.0, 0.0, 0.0,...</td>\n",
       "      <td>[[1.1788628473430318, 0.0, 0.0, 0.0, 0.0, 0.0,...</td>\n",
       "      <td>[[0.0, 0.0, 0.0, 0.0, 0.0, 0.0, 0.0, 0.0, 0.0,...</td>\n",
       "      <td>[[0.0, 0.0, 0.0, 0.0, 0.0, 0.0, 0.0, 0.0, 0.0,...</td>\n",
       "      <td>[[0.0, 0.0, 0.0, 0.0, 0.0, 0.0, 0.0, 0.0, 0.0,...</td>\n",
       "    </tr>\n",
       "    <tr>\n",
       "      <th>4</th>\n",
       "      <td>16_20_1_1_0.1_1.0_0.1_10_4</td>\n",
       "      <td>1</td>\n",
       "      <td>[[1.005056170714294, 0.0, 0.0, 0.0, 0.0, 0.0, ...</td>\n",
       "      <td>[[1.005056170714294, 0.0, 0.0, 0.0, 0.0, 0.0, ...</td>\n",
       "      <td>[[0.0, 0.0, 0.0, 0.0, 0.0, 0.0, 0.0, 0.0, 0.0,...</td>\n",
       "      <td>[[0.0, 0.0, 0.0, 0.0, 0.0, 0.0, 0.0, 0.0, 0.0,...</td>\n",
       "      <td>[[0.0, 0.0, 0.0, 0.0, 0.0, 0.0, 0.0, 0.0, 0.0,...</td>\n",
       "    </tr>\n",
       "  </tbody>\n",
       "</table>\n",
       "</div>"
      ],
      "text/plain": [
       "                   network_id  attempts  \\\n",
       "0  16_20_1_1_0.1_1.0_0.1_10_0         1   \n",
       "1  16_20_1_1_0.1_1.0_0.1_10_1         1   \n",
       "2  16_20_1_1_0.1_1.0_0.1_10_2         1   \n",
       "3  16_20_1_1_0.1_1.0_0.1_10_3         1   \n",
       "4  16_20_1_1_0.1_1.0_0.1_10_4         1   \n",
       "\n",
       "                                          uptake_fac  \\\n",
       "0  [[1.1764052345967664, 0.0, 0.0, 0.0, 0.0, 0.0,...   \n",
       "1  [[1.1624345363663242, 0.0, 0.0, 0.0, 0.0, 1.11...   \n",
       "2  [[0.9583242152594529, 0.0, 0.0, 0.0, 0.0, 0.0,...   \n",
       "3  [[1.1788628473430318, 0.0, 0.0, 0.0, 0.0, 0.0,...   \n",
       "4  [[1.005056170714294, 0.0, 0.0, 0.0, 0.0, 0.0, ...   \n",
       "\n",
       "                                        uptake_oblig  \\\n",
       "0  [[1.1764052345967664, 0.0, 0.0, 0.0, 0.0, 0.0,...   \n",
       "1  [[1.1624345363663242, 0.0, 0.0, 0.0, 0.0, 1.0,...   \n",
       "2  [[0.9583242152594529, 0.0, 0.0, 0.0, 0.0, 0.0,...   \n",
       "3  [[1.1788628473430318, 0.0, 0.0, 0.0, 0.0, 0.0,...   \n",
       "4  [[1.005056170714294, 0.0, 0.0, 0.0, 0.0, 0.0, ...   \n",
       "\n",
       "                                            spec_met  \\\n",
       "0  [[0.0, 0.0, 0.0, 0.0, 0.0, 0.0, 0.0, 1.0, 0.0,...   \n",
       "1  [[0.0, 0.0, 0.0, 0.0, 0.0, 0.0, 0.0, 0.0, 0.0,...   \n",
       "2  [[0.0, 0.0, 0.0, 0.0, 0.0, 0.0, 0.0, 0.0, 0.0,...   \n",
       "3  [[0.0, 0.0, 0.0, 0.0, 0.0, 0.0, 0.0, 0.0, 0.0,...   \n",
       "4  [[0.0, 0.0, 0.0, 0.0, 0.0, 0.0, 0.0, 0.0, 0.0,...   \n",
       "\n",
       "                                             met_fac  \\\n",
       "0  [[0.0, 0.0, 0.0, 0.0, 0.0, 0.0, 0.0, 0.0, 0.0,...   \n",
       "1  [[0.0, 0.0, 0.0, 0.0, 0.0, 0.0, 0.0, 0.0, 0.0,...   \n",
       "2  [[0.0, 0.0, 0.0, 0.0, 0.0, 0.0, 0.0, 0.0, 0.0,...   \n",
       "3  [[0.0, 0.0, 0.0, 0.0, 0.0, 0.0, 0.0, 0.0, 0.0,...   \n",
       "4  [[0.0, 0.0, 0.0, 0.0, 0.0, 0.0, 0.0, 0.0, 0.0,...   \n",
       "\n",
       "                                           met_oblig  \n",
       "0  [[0.0, 0.0, 0.0, 0.0, 0.0, 0.0, 0.0, 0.0, 0.0,...  \n",
       "1  [[0.0, 0.0, 0.0, 0.0, 0.0, 0.0, 0.0, 0.0, 0.0,...  \n",
       "2  [[0.0, 0.0, 0.0, 0.0, 0.0, 0.0, 0.0, 0.0, 0.0,...  \n",
       "3  [[0.0, 0.0, 0.0, 0.0, 0.0, 0.0, 0.0, 0.0, 0.0,...  \n",
       "4  [[0.0, 0.0, 0.0, 0.0, 0.0, 0.0, 0.0, 0.0, 0.0,...  "
      ]
     },
     "execution_count": 6,
     "metadata": {},
     "output_type": "execute_result"
    }
   ],
   "source": [
    "networks_df.head()"
   ]
  },
  {
   "cell_type": "code",
   "execution_count": 12,
   "id": "86f260d6",
   "metadata": {},
   "outputs": [],
   "source": [
    "# simple 2 species example\n",
    "\n",
    "uptake_fac   = np.array([[1,0.,1],[1,1,0.]])\n",
    "uptake_oblig = uptake_fac.copy()\n",
    "spec_met     = 1-uptake_fac.copy()\n",
    "met_fac      = np.array([[0.,0.,0.],[1,1,1],[1,1,1]])\n",
    "met_oblig    = np.array([[0.,0.,0.],[1,0.,0.],[1,0.,0,]])"
   ]
  },
  {
   "cell_type": "code",
   "execution_count": 13,
   "id": "a85d45f2",
   "metadata": {},
   "outputs": [
    {
     "data": {
      "image/png": "[encoded data removed]",
      "text/plain": [
       "<Figure size 1500x300 with 10 Axes>"
      ]
     },
     "metadata": {},
     "output_type": "display_data"
    }
   ],
   "source": [
    "# List of matrices and titles\n",
    "matrices = [uptake_fac, uptake_oblig, spec_met, met_fac, met_oblig]\n",
    "titles = ['uptake_fac', 'uptake_oblig', 'spec_met', 'met_fac', 'met_oblig']\n",
    "\n",
    "# Plot\n",
    "fig, axs = plt.subplots(1, 5, figsize=(15, 3))\n",
    "for ax, matrix, title in zip(axs, matrices, titles):\n",
    "    im = ax.imshow(matrix, cmap='viridis', aspect='auto')\n",
    "    ax.set_title(title)\n",
    "    plt.colorbar(im, ax=ax, fraction=0.046, pad=0.04)\n",
    "\n",
    "plt.tight_layout()\n",
    "plt.show()"
   ]
  },
  {
   "cell_type": "code",
   "execution_count": null,
   "id": "e696cd05",
   "metadata": {},
   "outputs": [],
   "source": []
  }
 ],
 "metadata": {
  "kernelspec": {
   "display_name": "Aux env",
   "language": "python",
   "name": "aux_env"
  },
  "language_info": {
   "codemirror_mode": {
    "name": "ipython",
    "version": 3
   },
   "file_extension": ".py",
   "mimetype": "text/x-python",
   "name": "python",
   "nbconvert_exporter": "python",
   "pygments_lexer": "ipython3",
   "version": "3.10.13"
  }
 },
 "nbformat": 4,
 "nbformat_minor": 5
}
